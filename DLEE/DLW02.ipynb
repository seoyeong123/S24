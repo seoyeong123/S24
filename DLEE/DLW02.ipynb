{
  "nbformat": 4,
  "nbformat_minor": 0,
  "metadata": {
    "colab": {
      "provenance": [],
      "include_colab_link": true
    },
    "kernelspec": {
      "name": "python3",
      "display_name": "Python 3"
    },
    "language_info": {
      "name": "python"
    },
    "widgets": {
      "application/vnd.jupyter.widget-state+json": {
        "bc7c5189e39e4d1aaa4e83880841c54b": {
          "model_module": "@jupyter-widgets/output",
          "model_name": "OutputModel",
          "model_module_version": "1.0.0",
          "state": {
            "_dom_classes": [],
            "_model_module": "@jupyter-widgets/output",
            "_model_module_version": "1.0.0",
            "_model_name": "OutputModel",
            "_view_count": null,
            "_view_module": "@jupyter-widgets/output",
            "_view_module_version": "1.0.0",
            "_view_name": "OutputView",
            "layout": "IPY_MODEL_268c020fa2f348b29b2bbdba78c6dd09",
            "msg_id": "",
            "outputs": []
          }
        },
        "268c020fa2f348b29b2bbdba78c6dd09": {
          "model_module": "@jupyter-widgets/base",
          "model_name": "LayoutModel",
          "model_module_version": "1.2.0",
          "state": {
            "_model_module": "@jupyter-widgets/base",
            "_model_module_version": "1.2.0",
            "_model_name": "LayoutModel",
            "_view_count": null,
            "_view_module": "@jupyter-widgets/base",
            "_view_module_version": "1.2.0",
            "_view_name": "LayoutView",
            "align_content": null,
            "align_items": null,
            "align_self": null,
            "border": null,
            "bottom": null,
            "display": null,
            "flex": null,
            "flex_flow": null,
            "grid_area": null,
            "grid_auto_columns": null,
            "grid_auto_flow": null,
            "grid_auto_rows": null,
            "grid_column": null,
            "grid_gap": null,
            "grid_row": null,
            "grid_template_areas": null,
            "grid_template_columns": null,
            "grid_template_rows": null,
            "height": null,
            "justify_content": null,
            "justify_items": null,
            "left": null,
            "margin": null,
            "max_height": null,
            "max_width": null,
            "min_height": null,
            "min_width": null,
            "object_fit": null,
            "object_position": null,
            "order": null,
            "overflow": null,
            "overflow_x": null,
            "overflow_y": null,
            "padding": null,
            "right": null,
            "top": null,
            "visibility": null,
            "width": null
          }
        },
        "b075464f973146a88ad728fc7d8ae7a4": {
          "model_module": "@jupyter-widgets/controls",
          "model_name": "VBoxModel",
          "model_module_version": "1.5.0",
          "state": {
            "_dom_classes": [],
            "_model_module": "@jupyter-widgets/controls",
            "_model_module_version": "1.5.0",
            "_model_name": "VBoxModel",
            "_view_count": null,
            "_view_module": "@jupyter-widgets/controls",
            "_view_module_version": "1.5.0",
            "_view_name": "VBoxView",
            "box_style": "",
            "children": [
              "IPY_MODEL_45d3ea8ff4a34c16907275144c0c3fd2",
              "IPY_MODEL_f15eaeb50e5044ad99aadee90b858b58",
              "IPY_MODEL_00e77bc3972742bcb0012b38d709ce83",
              "IPY_MODEL_a0aac91a2ec04abdb00bad1e06c73144",
              "IPY_MODEL_f7be375e2068481aa53daa15b5607ed9",
              "IPY_MODEL_16e01ae4e60a4b63916ea8a9aeedeae4"
            ],
            "layout": "IPY_MODEL_644a474343d447409c665b27f4d3732b"
          }
        },
        "45d3ea8ff4a34c16907275144c0c3fd2": {
          "model_module": "@jupyter-widgets/controls",
          "model_name": "TextModel",
          "model_module_version": "1.5.0",
          "state": {
            "_dom_classes": [],
            "_model_module": "@jupyter-widgets/controls",
            "_model_module_version": "1.5.0",
            "_model_name": "TextModel",
            "_view_count": null,
            "_view_module": "@jupyter-widgets/controls",
            "_view_module_version": "1.5.0",
            "_view_name": "TextView",
            "continuous_update": true,
            "description": "Calculation:",
            "description_tooltip": null,
            "disabled": false,
            "layout": "IPY_MODEL_5962eefd229d40b5880d2636f9b3bd31",
            "placeholder": "Type something",
            "style": "IPY_MODEL_ad1dcce6469a49ccb2f0fa5203f41e3a",
            "value": "30"
          }
        },
        "f15eaeb50e5044ad99aadee90b858b58": {
          "model_module": "@jupyter-widgets/controls",
          "model_name": "HBoxModel",
          "model_module_version": "1.5.0",
          "state": {
            "_dom_classes": [],
            "_model_module": "@jupyter-widgets/controls",
            "_model_module_version": "1.5.0",
            "_model_name": "HBoxModel",
            "_view_count": null,
            "_view_module": "@jupyter-widgets/controls",
            "_view_module_version": "1.5.0",
            "_view_name": "HBoxView",
            "box_style": "",
            "children": [
              "IPY_MODEL_21a183f5691f416f81a9c097b4e9b37d",
              "IPY_MODEL_08e275b1586748bcb3b55732e1b33bda",
              "IPY_MODEL_ad9e3caaa0ab4e2db48b63c615212503",
              "IPY_MODEL_927743a1a3d54ec59f616236061ca4b1"
            ],
            "layout": "IPY_MODEL_5e59e654a81d417f9c03c668c47a1712"
          }
        },
        "00e77bc3972742bcb0012b38d709ce83": {
          "model_module": "@jupyter-widgets/controls",
          "model_name": "HBoxModel",
          "model_module_version": "1.5.0",
          "state": {
            "_dom_classes": [],
            "_model_module": "@jupyter-widgets/controls",
            "_model_module_version": "1.5.0",
            "_model_name": "HBoxModel",
            "_view_count": null,
            "_view_module": "@jupyter-widgets/controls",
            "_view_module_version": "1.5.0",
            "_view_name": "HBoxView",
            "box_style": "",
            "children": [
              "IPY_MODEL_d6103a7cb4a04b0ea23f6ab1dd2d68e4",
              "IPY_MODEL_98461957b0b64a70a1a4fcae926854cd",
              "IPY_MODEL_81b295e8d8d84a2cbdc6f626ecde400e",
              "IPY_MODEL_250c9499612a40d599e71b0c98408221"
            ],
            "layout": "IPY_MODEL_4a2a41a597694a1fa4396e49dfb42d4f"
          }
        },
        "a0aac91a2ec04abdb00bad1e06c73144": {
          "model_module": "@jupyter-widgets/controls",
          "model_name": "HBoxModel",
          "model_module_version": "1.5.0",
          "state": {
            "_dom_classes": [],
            "_model_module": "@jupyter-widgets/controls",
            "_model_module_version": "1.5.0",
            "_model_name": "HBoxModel",
            "_view_count": null,
            "_view_module": "@jupyter-widgets/controls",
            "_view_module_version": "1.5.0",
            "_view_name": "HBoxView",
            "box_style": "",
            "children": [
              "IPY_MODEL_0eb6de4db18f43769ea4b205db398ce9",
              "IPY_MODEL_6c63e150fc914cbda2341d48db5e205a",
              "IPY_MODEL_837e56ab1af14b80a5cf3f147974fbd8",
              "IPY_MODEL_b1071df3531a485e943ca55a4634e3dc"
            ],
            "layout": "IPY_MODEL_dbb167cc72de4287bfd9b831a8b71423"
          }
        },
        "f7be375e2068481aa53daa15b5607ed9": {
          "model_module": "@jupyter-widgets/controls",
          "model_name": "HBoxModel",
          "model_module_version": "1.5.0",
          "state": {
            "_dom_classes": [],
            "_model_module": "@jupyter-widgets/controls",
            "_model_module_version": "1.5.0",
            "_model_name": "HBoxModel",
            "_view_count": null,
            "_view_module": "@jupyter-widgets/controls",
            "_view_module_version": "1.5.0",
            "_view_name": "HBoxView",
            "box_style": "",
            "children": [
              "IPY_MODEL_1e7ed7e5f53c473ca19580f5fbf4ea4a",
              "IPY_MODEL_2192274f72ba49bb8301afc8af75f80e",
              "IPY_MODEL_0f40a41e7609425bb7779c788f0fc3af",
              "IPY_MODEL_793bb8e3cf3f4da1939b35d2c335c399"
            ],
            "layout": "IPY_MODEL_6ff8a2a7df8945dfb9a08e8e60c5c2da"
          }
        },
        "16e01ae4e60a4b63916ea8a9aeedeae4": {
          "model_module": "@jupyter-widgets/controls",
          "model_name": "HBoxModel",
          "model_module_version": "1.5.0",
          "state": {
            "_dom_classes": [],
            "_model_module": "@jupyter-widgets/controls",
            "_model_module_version": "1.5.0",
            "_model_name": "HBoxModel",
            "_view_count": null,
            "_view_module": "@jupyter-widgets/controls",
            "_view_module_version": "1.5.0",
            "_view_name": "HBoxView",
            "box_style": "",
            "children": [
              "IPY_MODEL_d687d53e358d4d478baf961da956dfe1"
            ],
            "layout": "IPY_MODEL_95520e4e19124c9eb2d1bc153f9638bc"
          }
        },
        "644a474343d447409c665b27f4d3732b": {
          "model_module": "@jupyter-widgets/base",
          "model_name": "LayoutModel",
          "model_module_version": "1.2.0",
          "state": {
            "_model_module": "@jupyter-widgets/base",
            "_model_module_version": "1.2.0",
            "_model_name": "LayoutModel",
            "_view_count": null,
            "_view_module": "@jupyter-widgets/base",
            "_view_module_version": "1.2.0",
            "_view_name": "LayoutView",
            "align_content": null,
            "align_items": null,
            "align_self": null,
            "border": null,
            "bottom": null,
            "display": null,
            "flex": null,
            "flex_flow": null,
            "grid_area": null,
            "grid_auto_columns": null,
            "grid_auto_flow": null,
            "grid_auto_rows": null,
            "grid_column": null,
            "grid_gap": null,
            "grid_row": null,
            "grid_template_areas": null,
            "grid_template_columns": null,
            "grid_template_rows": null,
            "height": null,
            "justify_content": null,
            "justify_items": null,
            "left": null,
            "margin": null,
            "max_height": null,
            "max_width": null,
            "min_height": null,
            "min_width": null,
            "object_fit": null,
            "object_position": null,
            "order": null,
            "overflow": null,
            "overflow_x": null,
            "overflow_y": null,
            "padding": null,
            "right": null,
            "top": null,
            "visibility": null,
            "width": null
          }
        },
        "5962eefd229d40b5880d2636f9b3bd31": {
          "model_module": "@jupyter-widgets/base",
          "model_name": "LayoutModel",
          "model_module_version": "1.2.0",
          "state": {
            "_model_module": "@jupyter-widgets/base",
            "_model_module_version": "1.2.0",
            "_model_name": "LayoutModel",
            "_view_count": null,
            "_view_module": "@jupyter-widgets/base",
            "_view_module_version": "1.2.0",
            "_view_name": "LayoutView",
            "align_content": null,
            "align_items": null,
            "align_self": null,
            "border": null,
            "bottom": null,
            "display": null,
            "flex": null,
            "flex_flow": null,
            "grid_area": null,
            "grid_auto_columns": null,
            "grid_auto_flow": null,
            "grid_auto_rows": null,
            "grid_column": null,
            "grid_gap": null,
            "grid_row": null,
            "grid_template_areas": null,
            "grid_template_columns": null,
            "grid_template_rows": null,
            "height": null,
            "justify_content": null,
            "justify_items": null,
            "left": null,
            "margin": null,
            "max_height": null,
            "max_width": null,
            "min_height": null,
            "min_width": null,
            "object_fit": null,
            "object_position": null,
            "order": null,
            "overflow": null,
            "overflow_x": null,
            "overflow_y": null,
            "padding": null,
            "right": null,
            "top": null,
            "visibility": null,
            "width": null
          }
        },
        "ad1dcce6469a49ccb2f0fa5203f41e3a": {
          "model_module": "@jupyter-widgets/controls",
          "model_name": "DescriptionStyleModel",
          "model_module_version": "1.5.0",
          "state": {
            "_model_module": "@jupyter-widgets/controls",
            "_model_module_version": "1.5.0",
            "_model_name": "DescriptionStyleModel",
            "_view_count": null,
            "_view_module": "@jupyter-widgets/base",
            "_view_module_version": "1.2.0",
            "_view_name": "StyleView",
            "description_width": ""
          }
        },
        "21a183f5691f416f81a9c097b4e9b37d": {
          "model_module": "@jupyter-widgets/controls",
          "model_name": "ButtonModel",
          "model_module_version": "1.5.0",
          "state": {
            "_dom_classes": [],
            "_model_module": "@jupyter-widgets/controls",
            "_model_module_version": "1.5.0",
            "_model_name": "ButtonModel",
            "_view_count": null,
            "_view_module": "@jupyter-widgets/controls",
            "_view_module_version": "1.5.0",
            "_view_name": "ButtonView",
            "button_style": "",
            "description": "7",
            "disabled": false,
            "icon": "",
            "layout": "IPY_MODEL_8c6eaf84c166480f9b1fabd970fb80eb",
            "style": "IPY_MODEL_c29206e6095d4676a7ebf828192ca750",
            "tooltip": ""
          }
        },
        "08e275b1586748bcb3b55732e1b33bda": {
          "model_module": "@jupyter-widgets/controls",
          "model_name": "ButtonModel",
          "model_module_version": "1.5.0",
          "state": {
            "_dom_classes": [],
            "_model_module": "@jupyter-widgets/controls",
            "_model_module_version": "1.5.0",
            "_model_name": "ButtonModel",
            "_view_count": null,
            "_view_module": "@jupyter-widgets/controls",
            "_view_module_version": "1.5.0",
            "_view_name": "ButtonView",
            "button_style": "",
            "description": "8",
            "disabled": false,
            "icon": "",
            "layout": "IPY_MODEL_8c6eaf84c166480f9b1fabd970fb80eb",
            "style": "IPY_MODEL_b30334dcc90a4f40924a8438c727ec76",
            "tooltip": ""
          }
        },
        "ad9e3caaa0ab4e2db48b63c615212503": {
          "model_module": "@jupyter-widgets/controls",
          "model_name": "ButtonModel",
          "model_module_version": "1.5.0",
          "state": {
            "_dom_classes": [],
            "_model_module": "@jupyter-widgets/controls",
            "_model_module_version": "1.5.0",
            "_model_name": "ButtonModel",
            "_view_count": null,
            "_view_module": "@jupyter-widgets/controls",
            "_view_module_version": "1.5.0",
            "_view_name": "ButtonView",
            "button_style": "",
            "description": "9",
            "disabled": false,
            "icon": "",
            "layout": "IPY_MODEL_8c6eaf84c166480f9b1fabd970fb80eb",
            "style": "IPY_MODEL_28d35a7bb66e480b973df558459389d1",
            "tooltip": ""
          }
        },
        "927743a1a3d54ec59f616236061ca4b1": {
          "model_module": "@jupyter-widgets/controls",
          "model_name": "ButtonModel",
          "model_module_version": "1.5.0",
          "state": {
            "_dom_classes": [],
            "_model_module": "@jupyter-widgets/controls",
            "_model_module_version": "1.5.0",
            "_model_name": "ButtonModel",
            "_view_count": null,
            "_view_module": "@jupyter-widgets/controls",
            "_view_module_version": "1.5.0",
            "_view_name": "ButtonView",
            "button_style": "",
            "description": "÷",
            "disabled": false,
            "icon": "",
            "layout": "IPY_MODEL_8c6eaf84c166480f9b1fabd970fb80eb",
            "style": "IPY_MODEL_50141f42d3bf46db85d390bea1250683",
            "tooltip": ""
          }
        },
        "5e59e654a81d417f9c03c668c47a1712": {
          "model_module": "@jupyter-widgets/base",
          "model_name": "LayoutModel",
          "model_module_version": "1.2.0",
          "state": {
            "_model_module": "@jupyter-widgets/base",
            "_model_module_version": "1.2.0",
            "_model_name": "LayoutModel",
            "_view_count": null,
            "_view_module": "@jupyter-widgets/base",
            "_view_module_version": "1.2.0",
            "_view_name": "LayoutView",
            "align_content": null,
            "align_items": null,
            "align_self": null,
            "border": null,
            "bottom": null,
            "display": null,
            "flex": null,
            "flex_flow": null,
            "grid_area": null,
            "grid_auto_columns": null,
            "grid_auto_flow": null,
            "grid_auto_rows": null,
            "grid_column": null,
            "grid_gap": null,
            "grid_row": null,
            "grid_template_areas": null,
            "grid_template_columns": null,
            "grid_template_rows": null,
            "height": null,
            "justify_content": null,
            "justify_items": null,
            "left": null,
            "margin": null,
            "max_height": null,
            "max_width": null,
            "min_height": null,
            "min_width": null,
            "object_fit": null,
            "object_position": null,
            "order": null,
            "overflow": null,
            "overflow_x": null,
            "overflow_y": null,
            "padding": null,
            "right": null,
            "top": null,
            "visibility": null,
            "width": null
          }
        },
        "d6103a7cb4a04b0ea23f6ab1dd2d68e4": {
          "model_module": "@jupyter-widgets/controls",
          "model_name": "ButtonModel",
          "model_module_version": "1.5.0",
          "state": {
            "_dom_classes": [],
            "_model_module": "@jupyter-widgets/controls",
            "_model_module_version": "1.5.0",
            "_model_name": "ButtonModel",
            "_view_count": null,
            "_view_module": "@jupyter-widgets/controls",
            "_view_module_version": "1.5.0",
            "_view_name": "ButtonView",
            "button_style": "",
            "description": "4",
            "disabled": false,
            "icon": "",
            "layout": "IPY_MODEL_8c6eaf84c166480f9b1fabd970fb80eb",
            "style": "IPY_MODEL_2e8d0018b8494942bb46d224715a6b76",
            "tooltip": ""
          }
        },
        "98461957b0b64a70a1a4fcae926854cd": {
          "model_module": "@jupyter-widgets/controls",
          "model_name": "ButtonModel",
          "model_module_version": "1.5.0",
          "state": {
            "_dom_classes": [],
            "_model_module": "@jupyter-widgets/controls",
            "_model_module_version": "1.5.0",
            "_model_name": "ButtonModel",
            "_view_count": null,
            "_view_module": "@jupyter-widgets/controls",
            "_view_module_version": "1.5.0",
            "_view_name": "ButtonView",
            "button_style": "",
            "description": "5",
            "disabled": false,
            "icon": "",
            "layout": "IPY_MODEL_8c6eaf84c166480f9b1fabd970fb80eb",
            "style": "IPY_MODEL_42140b3580e44b8b8419b5b0fe3f3b53",
            "tooltip": ""
          }
        },
        "81b295e8d8d84a2cbdc6f626ecde400e": {
          "model_module": "@jupyter-widgets/controls",
          "model_name": "ButtonModel",
          "model_module_version": "1.5.0",
          "state": {
            "_dom_classes": [],
            "_model_module": "@jupyter-widgets/controls",
            "_model_module_version": "1.5.0",
            "_model_name": "ButtonModel",
            "_view_count": null,
            "_view_module": "@jupyter-widgets/controls",
            "_view_module_version": "1.5.0",
            "_view_name": "ButtonView",
            "button_style": "",
            "description": "6",
            "disabled": false,
            "icon": "",
            "layout": "IPY_MODEL_8c6eaf84c166480f9b1fabd970fb80eb",
            "style": "IPY_MODEL_a631937530f440198398fdd41cf4b6c7",
            "tooltip": ""
          }
        },
        "250c9499612a40d599e71b0c98408221": {
          "model_module": "@jupyter-widgets/controls",
          "model_name": "ButtonModel",
          "model_module_version": "1.5.0",
          "state": {
            "_dom_classes": [],
            "_model_module": "@jupyter-widgets/controls",
            "_model_module_version": "1.5.0",
            "_model_name": "ButtonModel",
            "_view_count": null,
            "_view_module": "@jupyter-widgets/controls",
            "_view_module_version": "1.5.0",
            "_view_name": "ButtonView",
            "button_style": "",
            "description": "×",
            "disabled": false,
            "icon": "",
            "layout": "IPY_MODEL_8c6eaf84c166480f9b1fabd970fb80eb",
            "style": "IPY_MODEL_a31e06d88c03429b92c963ad095b115c",
            "tooltip": ""
          }
        },
        "4a2a41a597694a1fa4396e49dfb42d4f": {
          "model_module": "@jupyter-widgets/base",
          "model_name": "LayoutModel",
          "model_module_version": "1.2.0",
          "state": {
            "_model_module": "@jupyter-widgets/base",
            "_model_module_version": "1.2.0",
            "_model_name": "LayoutModel",
            "_view_count": null,
            "_view_module": "@jupyter-widgets/base",
            "_view_module_version": "1.2.0",
            "_view_name": "LayoutView",
            "align_content": null,
            "align_items": null,
            "align_self": null,
            "border": null,
            "bottom": null,
            "display": null,
            "flex": null,
            "flex_flow": null,
            "grid_area": null,
            "grid_auto_columns": null,
            "grid_auto_flow": null,
            "grid_auto_rows": null,
            "grid_column": null,
            "grid_gap": null,
            "grid_row": null,
            "grid_template_areas": null,
            "grid_template_columns": null,
            "grid_template_rows": null,
            "height": null,
            "justify_content": null,
            "justify_items": null,
            "left": null,
            "margin": null,
            "max_height": null,
            "max_width": null,
            "min_height": null,
            "min_width": null,
            "object_fit": null,
            "object_position": null,
            "order": null,
            "overflow": null,
            "overflow_x": null,
            "overflow_y": null,
            "padding": null,
            "right": null,
            "top": null,
            "visibility": null,
            "width": null
          }
        },
        "0eb6de4db18f43769ea4b205db398ce9": {
          "model_module": "@jupyter-widgets/controls",
          "model_name": "ButtonModel",
          "model_module_version": "1.5.0",
          "state": {
            "_dom_classes": [],
            "_model_module": "@jupyter-widgets/controls",
            "_model_module_version": "1.5.0",
            "_model_name": "ButtonModel",
            "_view_count": null,
            "_view_module": "@jupyter-widgets/controls",
            "_view_module_version": "1.5.0",
            "_view_name": "ButtonView",
            "button_style": "",
            "description": "1",
            "disabled": false,
            "icon": "",
            "layout": "IPY_MODEL_8c6eaf84c166480f9b1fabd970fb80eb",
            "style": "IPY_MODEL_f8e8c9e8c4374f2eb522d59d0b46352f",
            "tooltip": ""
          }
        },
        "6c63e150fc914cbda2341d48db5e205a": {
          "model_module": "@jupyter-widgets/controls",
          "model_name": "ButtonModel",
          "model_module_version": "1.5.0",
          "state": {
            "_dom_classes": [],
            "_model_module": "@jupyter-widgets/controls",
            "_model_module_version": "1.5.0",
            "_model_name": "ButtonModel",
            "_view_count": null,
            "_view_module": "@jupyter-widgets/controls",
            "_view_module_version": "1.5.0",
            "_view_name": "ButtonView",
            "button_style": "",
            "description": "2",
            "disabled": false,
            "icon": "",
            "layout": "IPY_MODEL_8c6eaf84c166480f9b1fabd970fb80eb",
            "style": "IPY_MODEL_9f5442f7b77a4c68bba5aed9d2c2cf65",
            "tooltip": ""
          }
        },
        "837e56ab1af14b80a5cf3f147974fbd8": {
          "model_module": "@jupyter-widgets/controls",
          "model_name": "ButtonModel",
          "model_module_version": "1.5.0",
          "state": {
            "_dom_classes": [],
            "_model_module": "@jupyter-widgets/controls",
            "_model_module_version": "1.5.0",
            "_model_name": "ButtonModel",
            "_view_count": null,
            "_view_module": "@jupyter-widgets/controls",
            "_view_module_version": "1.5.0",
            "_view_name": "ButtonView",
            "button_style": "",
            "description": "3",
            "disabled": false,
            "icon": "",
            "layout": "IPY_MODEL_8c6eaf84c166480f9b1fabd970fb80eb",
            "style": "IPY_MODEL_54e4b127da99488a9a859d5ec4d03888",
            "tooltip": ""
          }
        },
        "b1071df3531a485e943ca55a4634e3dc": {
          "model_module": "@jupyter-widgets/controls",
          "model_name": "ButtonModel",
          "model_module_version": "1.5.0",
          "state": {
            "_dom_classes": [],
            "_model_module": "@jupyter-widgets/controls",
            "_model_module_version": "1.5.0",
            "_model_name": "ButtonModel",
            "_view_count": null,
            "_view_module": "@jupyter-widgets/controls",
            "_view_module_version": "1.5.0",
            "_view_name": "ButtonView",
            "button_style": "",
            "description": "-",
            "disabled": false,
            "icon": "",
            "layout": "IPY_MODEL_8c6eaf84c166480f9b1fabd970fb80eb",
            "style": "IPY_MODEL_64b4c78ccba545ed86017220515749fc",
            "tooltip": ""
          }
        },
        "dbb167cc72de4287bfd9b831a8b71423": {
          "model_module": "@jupyter-widgets/base",
          "model_name": "LayoutModel",
          "model_module_version": "1.2.0",
          "state": {
            "_model_module": "@jupyter-widgets/base",
            "_model_module_version": "1.2.0",
            "_model_name": "LayoutModel",
            "_view_count": null,
            "_view_module": "@jupyter-widgets/base",
            "_view_module_version": "1.2.0",
            "_view_name": "LayoutView",
            "align_content": null,
            "align_items": null,
            "align_self": null,
            "border": null,
            "bottom": null,
            "display": null,
            "flex": null,
            "flex_flow": null,
            "grid_area": null,
            "grid_auto_columns": null,
            "grid_auto_flow": null,
            "grid_auto_rows": null,
            "grid_column": null,
            "grid_gap": null,
            "grid_row": null,
            "grid_template_areas": null,
            "grid_template_columns": null,
            "grid_template_rows": null,
            "height": null,
            "justify_content": null,
            "justify_items": null,
            "left": null,
            "margin": null,
            "max_height": null,
            "max_width": null,
            "min_height": null,
            "min_width": null,
            "object_fit": null,
            "object_position": null,
            "order": null,
            "overflow": null,
            "overflow_x": null,
            "overflow_y": null,
            "padding": null,
            "right": null,
            "top": null,
            "visibility": null,
            "width": null
          }
        },
        "1e7ed7e5f53c473ca19580f5fbf4ea4a": {
          "model_module": "@jupyter-widgets/controls",
          "model_name": "ButtonModel",
          "model_module_version": "1.5.0",
          "state": {
            "_dom_classes": [],
            "_model_module": "@jupyter-widgets/controls",
            "_model_module_version": "1.5.0",
            "_model_name": "ButtonModel",
            "_view_count": null,
            "_view_module": "@jupyter-widgets/controls",
            "_view_module_version": "1.5.0",
            "_view_name": "ButtonView",
            "button_style": "",
            "description": "0",
            "disabled": false,
            "icon": "",
            "layout": "IPY_MODEL_8c6eaf84c166480f9b1fabd970fb80eb",
            "style": "IPY_MODEL_690791751e72498491100110feebc4bc",
            "tooltip": ""
          }
        },
        "2192274f72ba49bb8301afc8af75f80e": {
          "model_module": "@jupyter-widgets/controls",
          "model_name": "ButtonModel",
          "model_module_version": "1.5.0",
          "state": {
            "_dom_classes": [],
            "_model_module": "@jupyter-widgets/controls",
            "_model_module_version": "1.5.0",
            "_model_name": "ButtonModel",
            "_view_count": null,
            "_view_module": "@jupyter-widgets/controls",
            "_view_module_version": "1.5.0",
            "_view_name": "ButtonView",
            "button_style": "",
            "description": ".",
            "disabled": false,
            "icon": "",
            "layout": "IPY_MODEL_8c6eaf84c166480f9b1fabd970fb80eb",
            "style": "IPY_MODEL_0925b599db044335bb191a7f7a66a819",
            "tooltip": ""
          }
        },
        "0f40a41e7609425bb7779c788f0fc3af": {
          "model_module": "@jupyter-widgets/controls",
          "model_name": "ButtonModel",
          "model_module_version": "1.5.0",
          "state": {
            "_dom_classes": [],
            "_model_module": "@jupyter-widgets/controls",
            "_model_module_version": "1.5.0",
            "_model_name": "ButtonModel",
            "_view_count": null,
            "_view_module": "@jupyter-widgets/controls",
            "_view_module_version": "1.5.0",
            "_view_name": "ButtonView",
            "button_style": "",
            "description": "=",
            "disabled": false,
            "icon": "",
            "layout": "IPY_MODEL_8c6eaf84c166480f9b1fabd970fb80eb",
            "style": "IPY_MODEL_8a6cbe2257f944539667f213e36c9a34",
            "tooltip": ""
          }
        },
        "793bb8e3cf3f4da1939b35d2c335c399": {
          "model_module": "@jupyter-widgets/controls",
          "model_name": "ButtonModel",
          "model_module_version": "1.5.0",
          "state": {
            "_dom_classes": [],
            "_model_module": "@jupyter-widgets/controls",
            "_model_module_version": "1.5.0",
            "_model_name": "ButtonModel",
            "_view_count": null,
            "_view_module": "@jupyter-widgets/controls",
            "_view_module_version": "1.5.0",
            "_view_name": "ButtonView",
            "button_style": "",
            "description": "+",
            "disabled": false,
            "icon": "",
            "layout": "IPY_MODEL_8c6eaf84c166480f9b1fabd970fb80eb",
            "style": "IPY_MODEL_405b2f4ab80148169702f3d673271a74",
            "tooltip": ""
          }
        },
        "6ff8a2a7df8945dfb9a08e8e60c5c2da": {
          "model_module": "@jupyter-widgets/base",
          "model_name": "LayoutModel",
          "model_module_version": "1.2.0",
          "state": {
            "_model_module": "@jupyter-widgets/base",
            "_model_module_version": "1.2.0",
            "_model_name": "LayoutModel",
            "_view_count": null,
            "_view_module": "@jupyter-widgets/base",
            "_view_module_version": "1.2.0",
            "_view_name": "LayoutView",
            "align_content": null,
            "align_items": null,
            "align_self": null,
            "border": null,
            "bottom": null,
            "display": null,
            "flex": null,
            "flex_flow": null,
            "grid_area": null,
            "grid_auto_columns": null,
            "grid_auto_flow": null,
            "grid_auto_rows": null,
            "grid_column": null,
            "grid_gap": null,
            "grid_row": null,
            "grid_template_areas": null,
            "grid_template_columns": null,
            "grid_template_rows": null,
            "height": null,
            "justify_content": null,
            "justify_items": null,
            "left": null,
            "margin": null,
            "max_height": null,
            "max_width": null,
            "min_height": null,
            "min_width": null,
            "object_fit": null,
            "object_position": null,
            "order": null,
            "overflow": null,
            "overflow_x": null,
            "overflow_y": null,
            "padding": null,
            "right": null,
            "top": null,
            "visibility": null,
            "width": null
          }
        },
        "d687d53e358d4d478baf961da956dfe1": {
          "model_module": "@jupyter-widgets/controls",
          "model_name": "ButtonModel",
          "model_module_version": "1.5.0",
          "state": {
            "_dom_classes": [],
            "_model_module": "@jupyter-widgets/controls",
            "_model_module_version": "1.5.0",
            "_model_name": "ButtonModel",
            "_view_count": null,
            "_view_module": "@jupyter-widgets/controls",
            "_view_module_version": "1.5.0",
            "_view_name": "ButtonView",
            "button_style": "",
            "description": "Clear",
            "disabled": false,
            "icon": "",
            "layout": "IPY_MODEL_8c6eaf84c166480f9b1fabd970fb80eb",
            "style": "IPY_MODEL_8905f66d66c84461a5dec18949981906",
            "tooltip": ""
          }
        },
        "95520e4e19124c9eb2d1bc153f9638bc": {
          "model_module": "@jupyter-widgets/base",
          "model_name": "LayoutModel",
          "model_module_version": "1.2.0",
          "state": {
            "_model_module": "@jupyter-widgets/base",
            "_model_module_version": "1.2.0",
            "_model_name": "LayoutModel",
            "_view_count": null,
            "_view_module": "@jupyter-widgets/base",
            "_view_module_version": "1.2.0",
            "_view_name": "LayoutView",
            "align_content": null,
            "align_items": null,
            "align_self": null,
            "border": null,
            "bottom": null,
            "display": null,
            "flex": null,
            "flex_flow": null,
            "grid_area": null,
            "grid_auto_columns": null,
            "grid_auto_flow": null,
            "grid_auto_rows": null,
            "grid_column": null,
            "grid_gap": null,
            "grid_row": null,
            "grid_template_areas": null,
            "grid_template_columns": null,
            "grid_template_rows": null,
            "height": null,
            "justify_content": null,
            "justify_items": null,
            "left": null,
            "margin": null,
            "max_height": null,
            "max_width": null,
            "min_height": null,
            "min_width": null,
            "object_fit": null,
            "object_position": null,
            "order": null,
            "overflow": null,
            "overflow_x": null,
            "overflow_y": null,
            "padding": null,
            "right": null,
            "top": null,
            "visibility": null,
            "width": null
          }
        },
        "8c6eaf84c166480f9b1fabd970fb80eb": {
          "model_module": "@jupyter-widgets/base",
          "model_name": "LayoutModel",
          "model_module_version": "1.2.0",
          "state": {
            "_model_module": "@jupyter-widgets/base",
            "_model_module_version": "1.2.0",
            "_model_name": "LayoutModel",
            "_view_count": null,
            "_view_module": "@jupyter-widgets/base",
            "_view_module_version": "1.2.0",
            "_view_name": "LayoutView",
            "align_content": null,
            "align_items": null,
            "align_self": null,
            "border": null,
            "bottom": null,
            "display": null,
            "flex": null,
            "flex_flow": null,
            "grid_area": null,
            "grid_auto_columns": null,
            "grid_auto_flow": null,
            "grid_auto_rows": null,
            "grid_column": null,
            "grid_gap": null,
            "grid_row": null,
            "grid_template_areas": null,
            "grid_template_columns": null,
            "grid_template_rows": null,
            "height": "75px",
            "justify_content": null,
            "justify_items": null,
            "left": null,
            "margin": "5px",
            "max_height": null,
            "max_width": null,
            "min_height": null,
            "min_width": null,
            "object_fit": null,
            "object_position": null,
            "order": null,
            "overflow": null,
            "overflow_x": null,
            "overflow_y": null,
            "padding": null,
            "right": null,
            "top": null,
            "visibility": null,
            "width": "75px"
          }
        },
        "c29206e6095d4676a7ebf828192ca750": {
          "model_module": "@jupyter-widgets/controls",
          "model_name": "ButtonStyleModel",
          "model_module_version": "1.5.0",
          "state": {
            "_model_module": "@jupyter-widgets/controls",
            "_model_module_version": "1.5.0",
            "_model_name": "ButtonStyleModel",
            "_view_count": null,
            "_view_module": "@jupyter-widgets/base",
            "_view_module_version": "1.2.0",
            "_view_name": "StyleView",
            "button_color": "orange",
            "font_weight": ""
          }
        },
        "b30334dcc90a4f40924a8438c727ec76": {
          "model_module": "@jupyter-widgets/controls",
          "model_name": "ButtonStyleModel",
          "model_module_version": "1.5.0",
          "state": {
            "_model_module": "@jupyter-widgets/controls",
            "_model_module_version": "1.5.0",
            "_model_name": "ButtonStyleModel",
            "_view_count": null,
            "_view_module": "@jupyter-widgets/base",
            "_view_module_version": "1.2.0",
            "_view_name": "StyleView",
            "button_color": "orange",
            "font_weight": ""
          }
        },
        "28d35a7bb66e480b973df558459389d1": {
          "model_module": "@jupyter-widgets/controls",
          "model_name": "ButtonStyleModel",
          "model_module_version": "1.5.0",
          "state": {
            "_model_module": "@jupyter-widgets/controls",
            "_model_module_version": "1.5.0",
            "_model_name": "ButtonStyleModel",
            "_view_count": null,
            "_view_module": "@jupyter-widgets/base",
            "_view_module_version": "1.2.0",
            "_view_name": "StyleView",
            "button_color": "orange",
            "font_weight": ""
          }
        },
        "50141f42d3bf46db85d390bea1250683": {
          "model_module": "@jupyter-widgets/controls",
          "model_name": "ButtonStyleModel",
          "model_module_version": "1.5.0",
          "state": {
            "_model_module": "@jupyter-widgets/controls",
            "_model_module_version": "1.5.0",
            "_model_name": "ButtonStyleModel",
            "_view_count": null,
            "_view_module": "@jupyter-widgets/base",
            "_view_module_version": "1.2.0",
            "_view_name": "StyleView",
            "button_color": "orange",
            "font_weight": ""
          }
        },
        "2e8d0018b8494942bb46d224715a6b76": {
          "model_module": "@jupyter-widgets/controls",
          "model_name": "ButtonStyleModel",
          "model_module_version": "1.5.0",
          "state": {
            "_model_module": "@jupyter-widgets/controls",
            "_model_module_version": "1.5.0",
            "_model_name": "ButtonStyleModel",
            "_view_count": null,
            "_view_module": "@jupyter-widgets/base",
            "_view_module_version": "1.2.0",
            "_view_name": "StyleView",
            "button_color": "orange",
            "font_weight": ""
          }
        },
        "42140b3580e44b8b8419b5b0fe3f3b53": {
          "model_module": "@jupyter-widgets/controls",
          "model_name": "ButtonStyleModel",
          "model_module_version": "1.5.0",
          "state": {
            "_model_module": "@jupyter-widgets/controls",
            "_model_module_version": "1.5.0",
            "_model_name": "ButtonStyleModel",
            "_view_count": null,
            "_view_module": "@jupyter-widgets/base",
            "_view_module_version": "1.2.0",
            "_view_name": "StyleView",
            "button_color": "orange",
            "font_weight": ""
          }
        },
        "a631937530f440198398fdd41cf4b6c7": {
          "model_module": "@jupyter-widgets/controls",
          "model_name": "ButtonStyleModel",
          "model_module_version": "1.5.0",
          "state": {
            "_model_module": "@jupyter-widgets/controls",
            "_model_module_version": "1.5.0",
            "_model_name": "ButtonStyleModel",
            "_view_count": null,
            "_view_module": "@jupyter-widgets/base",
            "_view_module_version": "1.2.0",
            "_view_name": "StyleView",
            "button_color": "orange",
            "font_weight": ""
          }
        },
        "a31e06d88c03429b92c963ad095b115c": {
          "model_module": "@jupyter-widgets/controls",
          "model_name": "ButtonStyleModel",
          "model_module_version": "1.5.0",
          "state": {
            "_model_module": "@jupyter-widgets/controls",
            "_model_module_version": "1.5.0",
            "_model_name": "ButtonStyleModel",
            "_view_count": null,
            "_view_module": "@jupyter-widgets/base",
            "_view_module_version": "1.2.0",
            "_view_name": "StyleView",
            "button_color": "orange",
            "font_weight": ""
          }
        },
        "f8e8c9e8c4374f2eb522d59d0b46352f": {
          "model_module": "@jupyter-widgets/controls",
          "model_name": "ButtonStyleModel",
          "model_module_version": "1.5.0",
          "state": {
            "_model_module": "@jupyter-widgets/controls",
            "_model_module_version": "1.5.0",
            "_model_name": "ButtonStyleModel",
            "_view_count": null,
            "_view_module": "@jupyter-widgets/base",
            "_view_module_version": "1.2.0",
            "_view_name": "StyleView",
            "button_color": "orange",
            "font_weight": ""
          }
        },
        "9f5442f7b77a4c68bba5aed9d2c2cf65": {
          "model_module": "@jupyter-widgets/controls",
          "model_name": "ButtonStyleModel",
          "model_module_version": "1.5.0",
          "state": {
            "_model_module": "@jupyter-widgets/controls",
            "_model_module_version": "1.5.0",
            "_model_name": "ButtonStyleModel",
            "_view_count": null,
            "_view_module": "@jupyter-widgets/base",
            "_view_module_version": "1.2.0",
            "_view_name": "StyleView",
            "button_color": "orange",
            "font_weight": ""
          }
        },
        "54e4b127da99488a9a859d5ec4d03888": {
          "model_module": "@jupyter-widgets/controls",
          "model_name": "ButtonStyleModel",
          "model_module_version": "1.5.0",
          "state": {
            "_model_module": "@jupyter-widgets/controls",
            "_model_module_version": "1.5.0",
            "_model_name": "ButtonStyleModel",
            "_view_count": null,
            "_view_module": "@jupyter-widgets/base",
            "_view_module_version": "1.2.0",
            "_view_name": "StyleView",
            "button_color": "orange",
            "font_weight": ""
          }
        },
        "64b4c78ccba545ed86017220515749fc": {
          "model_module": "@jupyter-widgets/controls",
          "model_name": "ButtonStyleModel",
          "model_module_version": "1.5.0",
          "state": {
            "_model_module": "@jupyter-widgets/controls",
            "_model_module_version": "1.5.0",
            "_model_name": "ButtonStyleModel",
            "_view_count": null,
            "_view_module": "@jupyter-widgets/base",
            "_view_module_version": "1.2.0",
            "_view_name": "StyleView",
            "button_color": "orange",
            "font_weight": ""
          }
        },
        "690791751e72498491100110feebc4bc": {
          "model_module": "@jupyter-widgets/controls",
          "model_name": "ButtonStyleModel",
          "model_module_version": "1.5.0",
          "state": {
            "_model_module": "@jupyter-widgets/controls",
            "_model_module_version": "1.5.0",
            "_model_name": "ButtonStyleModel",
            "_view_count": null,
            "_view_module": "@jupyter-widgets/base",
            "_view_module_version": "1.2.0",
            "_view_name": "StyleView",
            "button_color": "orange",
            "font_weight": ""
          }
        },
        "0925b599db044335bb191a7f7a66a819": {
          "model_module": "@jupyter-widgets/controls",
          "model_name": "ButtonStyleModel",
          "model_module_version": "1.5.0",
          "state": {
            "_model_module": "@jupyter-widgets/controls",
            "_model_module_version": "1.5.0",
            "_model_name": "ButtonStyleModel",
            "_view_count": null,
            "_view_module": "@jupyter-widgets/base",
            "_view_module_version": "1.2.0",
            "_view_name": "StyleView",
            "button_color": "orange",
            "font_weight": ""
          }
        },
        "8a6cbe2257f944539667f213e36c9a34": {
          "model_module": "@jupyter-widgets/controls",
          "model_name": "ButtonStyleModel",
          "model_module_version": "1.5.0",
          "state": {
            "_model_module": "@jupyter-widgets/controls",
            "_model_module_version": "1.5.0",
            "_model_name": "ButtonStyleModel",
            "_view_count": null,
            "_view_module": "@jupyter-widgets/base",
            "_view_module_version": "1.2.0",
            "_view_name": "StyleView",
            "button_color": "orange",
            "font_weight": ""
          }
        },
        "405b2f4ab80148169702f3d673271a74": {
          "model_module": "@jupyter-widgets/controls",
          "model_name": "ButtonStyleModel",
          "model_module_version": "1.5.0",
          "state": {
            "_model_module": "@jupyter-widgets/controls",
            "_model_module_version": "1.5.0",
            "_model_name": "ButtonStyleModel",
            "_view_count": null,
            "_view_module": "@jupyter-widgets/base",
            "_view_module_version": "1.2.0",
            "_view_name": "StyleView",
            "button_color": "orange",
            "font_weight": ""
          }
        },
        "8905f66d66c84461a5dec18949981906": {
          "model_module": "@jupyter-widgets/controls",
          "model_name": "ButtonStyleModel",
          "model_module_version": "1.5.0",
          "state": {
            "_model_module": "@jupyter-widgets/controls",
            "_model_module_version": "1.5.0",
            "_model_name": "ButtonStyleModel",
            "_view_count": null,
            "_view_module": "@jupyter-widgets/base",
            "_view_module_version": "1.2.0",
            "_view_name": "StyleView",
            "button_color": "orange",
            "font_weight": ""
          }
        }
      }
    }
  },
  "cells": [
    {
      "cell_type": "markdown",
      "metadata": {
        "id": "view-in-github",
        "colab_type": "text"
      },
      "source": [
        "<a href=\"https://colab.research.google.com/github/seoyeong123/S24/blob/main/DLEE/DLW02.ipynb\" target=\"_parent\"><img src=\"https://colab.research.google.com/assets/colab-badge.svg\" alt=\"Open In Colab\"/></a>"
      ]
    },
    {
      "cell_type": "markdown",
      "source": [
        "# 🌳 **Topic: Python basics #1**\n",
        "\n",
        "📙Manual [Coding4ET Lesson03](https://github.com/MK316/Coding4ET/blob/main/Lessons/Lesson03.md#Variables) for self-study\n",
        "\n",
        "\n",
        "📗Table of contents\n",
        "* **3.1 Comment vs. Code cells; Running code cells**\n",
        "+ **3.2 Input vs. Output**\n",
        "* **3.3 Variables**\n",
        "* **3.4 Operators**\n",
        "* **3.5 Functions**\n",
        "* **3.6 Modules, libraries & packages**\n",
        "\n",
        "Updated as of Mar.25, 2024"
      ],
      "metadata": {
        "id": "fkVkXhLoOGMz"
      }
    },
    {
      "cell_type": "markdown",
      "source": [
        "Your github IDs are below:\n",
        "+ [Digital Literacy & English Education](https://docs.google.com/spreadsheets/d/1rcJ6c2BuAIbodEft7ZUsgwFOwiNK9nO2siZ6VUAgcgI/edit?usp=sharing)\n",
        "+ [Introduction to Coding and Language App Design](https://docs.google.com/spreadsheets/d/11TMSMm_0xzBc5lYAJx9oDwwrgeeAqKR1CEULl-eR6w0/edit?usp=sharing)"
      ],
      "metadata": {
        "id": "mUVgzk50XMkt"
      }
    },
    {
      "cell_type": "markdown",
      "source": [
        "# 3.1 Comment vs. Code cells"
      ],
      "metadata": {
        "id": "CY-YSoyjarvc"
      }
    },
    {
      "cell_type": "markdown",
      "source": [
        "**A. This is a comment cell**"
      ],
      "metadata": {
        "id": "uUjz2zOPawt8"
      }
    },
    {
      "cell_type": "code",
      "source": [
        "#@markdown **B. This is a code cell** (Run this code by clicking the icon on the left)\n",
        "\n",
        "name = input(\"What is your name? \")\n",
        "\n",
        "print(\"*\"*30)\n",
        "print(f\"Welcome, {name}!\", \"\\n\\n\", \"When you click on the code cell and run it, the phrase 'You ran the code' indicates that the code has been executed. The output you see is the direct result of what was programmed in that code cell.\")"
      ],
      "metadata": {
        "cellView": "form",
        "id": "cTgQTMDmazU9"
      },
      "execution_count": null,
      "outputs": []
    },
    {
      "cell_type": "markdown",
      "source": [
        "## 😶 _How to comment on a code cell?_\n",
        "\n",
        "- In Python, the # symbol is used to indicate a comment. A comment is a line of text in a code that is ignored by the Python interpreter and is used to provide explanations or notes for the reader of the code."
      ],
      "metadata": {
        "id": "xZv9R8I8ZWvt"
      }
    },
    {
      "cell_type": "code",
      "source": [
        "# This is a comment in Python\n",
        "x = 10 # this is also a comment"
      ],
      "metadata": {
        "id": "7UJmbmmTaFx9"
      },
      "execution_count": null,
      "outputs": []
    },
    {
      "cell_type": "code",
      "source": [
        "x * 10\n",
        "y + \"Welcome to the class.\"\n",
        "k = z * 2\n",
        "print(k)\n",
        "z + [3,2,1]"
      ],
      "metadata": {
        "colab": {
          "base_uri": "https://localhost:8080/"
        },
        "id": "Ivc72tB0X_TS",
        "outputId": "69ec6238-6f13-4658-a7e7-a8fa7b566aab"
      },
      "execution_count": null,
      "outputs": [
        {
          "output_type": "stream",
          "name": "stdout",
          "text": [
            "[1, 2, 3, 1, 2, 3]\n"
          ]
        },
        {
          "output_type": "execute_result",
          "data": {
            "text/plain": [
              "[1, 2, 3, 3, 2, 1]"
            ]
          },
          "metadata": {},
          "execution_count": 10
        }
      ]
    },
    {
      "cell_type": "markdown",
      "source": [
        "# 3.2 Input vs. Output"
      ],
      "metadata": {
        "id": "ZXbZsNpwa0-0"
      }
    },
    {
      "cell_type": "markdown",
      "source": [
        "### 🔸**Input:**\n",
        "+ Definition: Input refers to any information or data that is sent to a computer for processing. This information can come from various sources, such as a keyboard, mouse, microphone, or even an internet connection. Examples:\n",
        "\n",
        "  + Typing text on a keyboard.\n",
        "  + Clicking or moving a mouse.\n",
        "  + Speaking into a microphone.\n",
        "  + Uploading a file or entering data through a website.\n",
        "+ Importance in Coding: Understanding input is crucial because it determines how a program will respond or behave. For instance, a program might react differently to a click than it would to a keyboard press.\n",
        "\n",
        "### 🔸**Output:**\n",
        "+ Definition: Output is the result produced by a computer after processing the input. This output can be displayed in various forms like text on a screen, sound through speakers, or even a printed document. Examples:\n",
        "\n",
        "  + Displaying text or images on a screen.\n",
        "  + Playing sound or music through speakers or headphones.\n",
        "  + Sending a document to a printer.\n",
        "  + Saving a file or sending data over the internet.\n",
        "+ Importance in Coding: Output is the way a program communicates the results of its computations or actions. It can be as simple as displaying a message like \"Hello World!\" or as complex as rendering a detailed graphical report."
      ],
      "metadata": {
        "id": "t8MOM-nDeXq9"
      }
    },
    {
      "cell_type": "markdown",
      "source": [
        "### 💦 Multi-modality\n",
        "\n",
        "|Input ➡️ |Codes| ➡️ Output|\n",
        "|--|--|--|\n",
        "|Text|  | Text|\n",
        "|Audio||Audio|\n",
        "|Image||Image|\n",
        "\n",
        "[Multi-modality samples](https://github.com/MK316/Spring2024/blob/main/Multimodality.ipynb)"
      ],
      "metadata": {
        "id": "YcnboBYksXqf"
      }
    },
    {
      "cell_type": "code",
      "source": [],
      "metadata": {
        "id": "zgZpXRgkeXNi"
      },
      "execution_count": null,
      "outputs": []
    },
    {
      "cell_type": "markdown",
      "source": [
        "# 3.3 Variables"
      ],
      "metadata": {
        "id": "93gQaEo1RX63"
      }
    },
    {
      "cell_type": "markdown",
      "source": [
        "+ **A variable** is a named storage location that holds a value.\n",
        "+ Variables can be used **to store values** such as numbers, strings, lists, or other data types.\n",
        "+ The value of a variable can change throughout the execution of a program.\n",
        "+ To declare a variable in Python, you need to assign a value to it using the **equal (=) sign.**\n",
        "+ [Rules to create a variable name](https://github.com/MK316/Coding4ET/blob/main/Lessons/Lesson03.md#Variables)"
      ],
      "metadata": {
        "id": "jJT4hD1teuJr"
      }
    },
    {
      "cell_type": "code",
      "source": [
        "x = 10                # Assign the value '10' to the variable 'x'\n",
        "y = \"Hello, class!\"   # Assign the text 'Hello, class!' to the variable 'y'\n",
        "z = [1, 2, 3]         # Assign the list containing the elements 1, 2, and 3 to the variable z."
      ],
      "metadata": {
        "id": "Xes87bY2X45M"
      },
      "execution_count": null,
      "outputs": []
    },
    {
      "cell_type": "markdown",
      "source": [
        "↗️ In the above example, 'x' is assigned the value of 10, 'y' is assigned the value of \"Hello, World!\", and 'z' is assigned the value of [1, 2, 3]."
      ],
      "metadata": {
        "id": "ulw6QsP5ZiKp"
      }
    },
    {
      "cell_type": "markdown",
      "source": [
        "[sample link](https://github.com/MK316/Spring2023/raw/main/data/att_sample.csv)"
      ],
      "metadata": {
        "id": "3n2wMVFXQj5y"
      }
    },
    {
      "cell_type": "code",
      "source": [
        "# We can assign a link or a function\n",
        "import pandas as pd\n",
        "url = \"https://github.com/MK316/Spring2023/raw/main/data/att_sample.csv\"\n",
        "data = pd.read_csv(url)\n",
        "data"
      ],
      "metadata": {
        "id": "_7bvpJt2aQmg"
      },
      "execution_count": null,
      "outputs": []
    },
    {
      "cell_type": "markdown",
      "source": [
        "### Note:\n",
        "\n",
        "Python Index: Indexing in Python is a way to access individual items within an iterable object, like a list, string, or tuple. (we'll comback to this later)\n",
        "\n",
        "e.g., z = [1, 2, 3](3 items)\n",
        "\n",
        "How to access to the first item of z?\n",
        "\n",
        "> z[0]\n",
        "\n",
        " 📌 Important: **Python index begins from '0'.** Python uses zero-based indexing. This means the first element is accessed with index 0, the second with 1, and so on."
      ],
      "metadata": {
        "id": "vO9jxQhnIeYM"
      }
    },
    {
      "cell_type": "code",
      "source": [
        "data[6] # What is the output?"
      ],
      "metadata": {
        "id": "uSSLncUuIftq"
      },
      "execution_count": null,
      "outputs": []
    },
    {
      "cell_type": "markdown",
      "source": [
        "# 3.4 Operators\n",
        "\n",
        "* Symbols that perform operations on values and variables.\n",
        "* They are used to perform arithmetic and logical operations, and they can also be used to manipulate and compare values."
      ],
      "metadata": {
        "id": "5JgA2T2dRft5"
      }
    },
    {
      "cell_type": "markdown",
      "source": [
        "1. Arithmetic Operators: +, -, *, /, %, ** (for exponentiation)"
      ],
      "metadata": {
        "id": "NJBgu_O4bczL"
      }
    },
    {
      "cell_type": "code",
      "source": [
        "x = 2; y = 5\n",
        "\n",
        "a1 = x + y\n",
        "a2 = x - y\n",
        "a3 = x * y\n",
        "a4 = x / y\n",
        "a5 = x ** y"
      ],
      "metadata": {
        "id": "dXT3pIzobUHU"
      },
      "execution_count": null,
      "outputs": []
    },
    {
      "cell_type": "code",
      "source": [
        "a1 = \"hello\"\n",
        "a2 = \"seoyeong\"\n",
        "\n",
        "print(a1+\", \"+a2)"
      ],
      "metadata": {
        "id": "_m3JBsOKd6Uv",
        "colab": {
          "base_uri": "https://localhost:8080/"
        },
        "outputId": "fd275985-72d9-4618-e1a7-aea0550009ca"
      },
      "execution_count": 20,
      "outputs": [
        {
          "output_type": "stream",
          "name": "stdout",
          "text": [
            "hello, seoyeong\n"
          ]
        }
      ]
    },
    {
      "cell_type": "markdown",
      "source": [
        "# 🔢 Calculator\n",
        "\n",
        "+ [Online app](https://mrkim21.github.io/calculator.html)"
      ],
      "metadata": {
        "id": "Cx1NyWUAybc8"
      }
    },
    {
      "cell_type": "code",
      "source": [
        "# This function adds two numbers\n",
        "def add(x, y):\n",
        "    return x + y\n",
        "\n",
        "# This function subtracts two numbers\n",
        "def subtract(x, y):\n",
        "    return x - y\n",
        "\n",
        "# This function multiplies two numbers\n",
        "def multiply(x, y):\n",
        "    return x * y\n",
        "\n",
        "# This function divides two numbers\n",
        "def divide(x, y):\n",
        "    return x / y\n",
        "\n",
        "func = \"subtract\" #@param = [\"add\",\"subtract\",\"multiply\",\"divide\"]\n",
        "digits = input(\"Type two numbers: (e.g., 3,4)\")\n",
        "digitsplit = digits.split(',')\n",
        "d1 = int(digitsplit[0])\n",
        "d2 = int(digitsplit[1])\n",
        "\n",
        "if func == \"add\":\n",
        "  result = add(d1,d2)\n",
        "  text = \"The addition of %d and %d equals %d\"%(d1,d2,result)\n",
        "elif func == \"subtract\":\n",
        "  result = subtract(d1,d2)\n",
        "  text = \"If you subtract %d from %d, you get %d\"%(d2,d1,result)\n",
        "elif func == \"divide\":\n",
        "  result = divide(d1,d2)\n",
        "  text = \"When you divide %d by %d, you get %d\"%(d1,d2,result)\n",
        "elif func == \"multiply\":\n",
        "  result = multiply(d1,d2)\n",
        "  text = \"%d multiplied by %d is %d\"%(d1,d2,result)\n",
        "\n",
        "print(text)\n",
        "\n"
      ],
      "metadata": {
        "cellView": "form",
        "id": "Dod3_zgYdsWe",
        "colab": {
          "base_uri": "https://localhost:8080/"
        },
        "outputId": "4783e60b-9ea1-4fee-9081-130bb564f6f1"
      },
      "execution_count": null,
      "outputs": [
        {
          "output_type": "stream",
          "name": "stdout",
          "text": [
            "Type two numbers: (e.g., 3,4)7,4\n",
            "If you subtract 4 from 7, you get 3\n"
          ]
        }
      ]
    },
    {
      "cell_type": "code",
      "source": [
        "#@markdown Calculator app\n",
        "import ipywidgets as widgets\n",
        "from IPython.display import display\n",
        "\n",
        "# Create the output widget to display the results\n",
        "output = widgets.Output()\n",
        "\n",
        "# Create the text widget for displaying the expression\n",
        "expression = widgets.Text(value='', placeholder='Type something', description='Calculation:', disabled=False)\n",
        "\n",
        "def on_button_clicked(b):\n",
        "    with output:\n",
        "        output.clear_output()\n",
        "        if b.description == \"=\":\n",
        "            # Replace the Unicode operators with Python operators\n",
        "            current_expression = expression.value.replace('×', '*').replace('÷', '/')\n",
        "            # Evaluate the expression and handle errors\n",
        "            try:\n",
        "                expression.value = str(eval(current_expression))\n",
        "            except Exception as e:\n",
        "                expression.value = 'Error'\n",
        "        elif b.description == \"Clear\":  # Changed from \"C\" to \"Clear\"\n",
        "            # Clear the expression\n",
        "            expression.value = ''\n",
        "        else:\n",
        "            # Append the button description (number or operator) to the expression\n",
        "            expression.value += b.description\n",
        "\n",
        "\n",
        "# Create buttons using a loop and store them in a list\n",
        "buttons = []\n",
        "button_layout = widgets.Layout(width='75px', height='75px', margin='5px')  # Increased width and height, added margin\n",
        "button_style = {'button_color': 'orange'}  # Set the button color to orange\n",
        "\n",
        "operators = [['7', '8', '9', '÷'],\n",
        "             ['4', '5', '6', '×'],\n",
        "             ['1', '2', '3', '-'],\n",
        "             ['0', '.', '=', '+'],\n",
        "             ['Clear']]  # 'C' button for clearing the input\n",
        "\n",
        "for row in operators:\n",
        "    row_buttons = []\n",
        "    for button_label in row:\n",
        "        button = widgets.Button(description=button_label, layout=button_layout, style=button_style)\n",
        "        button.on_click(on_button_clicked)\n",
        "        row_buttons.append(button)\n",
        "    buttons.append(widgets.HBox(row_buttons))\n",
        "\n",
        "# Display all the widgets\n",
        "all_buttons = widgets.VBox([expression] + buttons)\n",
        "display(output, all_buttons)\n",
        "\n",
        "\n",
        "# Add a clear button\n",
        "clear_button = widgets.Button(description=\"C\", layout=button_layout)\n",
        "clear_button.on_click(on_button_clicked)\n",
        "buttons.append(widgets.HBox([clear_button]))\n",
        "\n",
        "# # Display all the widgets\n",
        "# all_buttons = widgets.VBox([expression] + buttons)\n",
        "# display(output, all_buttons)"
      ],
      "metadata": {
        "cellView": "form",
        "colab": {
          "base_uri": "https://localhost:8080/",
          "height": 474,
          "referenced_widgets": [
            "bc7c5189e39e4d1aaa4e83880841c54b",
            "268c020fa2f348b29b2bbdba78c6dd09",
            "b075464f973146a88ad728fc7d8ae7a4",
            "45d3ea8ff4a34c16907275144c0c3fd2",
            "f15eaeb50e5044ad99aadee90b858b58",
            "00e77bc3972742bcb0012b38d709ce83",
            "a0aac91a2ec04abdb00bad1e06c73144",
            "f7be375e2068481aa53daa15b5607ed9",
            "16e01ae4e60a4b63916ea8a9aeedeae4",
            "644a474343d447409c665b27f4d3732b",
            "5962eefd229d40b5880d2636f9b3bd31",
            "ad1dcce6469a49ccb2f0fa5203f41e3a",
            "21a183f5691f416f81a9c097b4e9b37d",
            "08e275b1586748bcb3b55732e1b33bda",
            "ad9e3caaa0ab4e2db48b63c615212503",
            "927743a1a3d54ec59f616236061ca4b1",
            "5e59e654a81d417f9c03c668c47a1712",
            "d6103a7cb4a04b0ea23f6ab1dd2d68e4",
            "98461957b0b64a70a1a4fcae926854cd",
            "81b295e8d8d84a2cbdc6f626ecde400e",
            "250c9499612a40d599e71b0c98408221",
            "4a2a41a597694a1fa4396e49dfb42d4f",
            "0eb6de4db18f43769ea4b205db398ce9",
            "6c63e150fc914cbda2341d48db5e205a",
            "837e56ab1af14b80a5cf3f147974fbd8",
            "b1071df3531a485e943ca55a4634e3dc",
            "dbb167cc72de4287bfd9b831a8b71423",
            "1e7ed7e5f53c473ca19580f5fbf4ea4a",
            "2192274f72ba49bb8301afc8af75f80e",
            "0f40a41e7609425bb7779c788f0fc3af",
            "793bb8e3cf3f4da1939b35d2c335c399",
            "6ff8a2a7df8945dfb9a08e8e60c5c2da",
            "d687d53e358d4d478baf961da956dfe1",
            "95520e4e19124c9eb2d1bc153f9638bc",
            "8c6eaf84c166480f9b1fabd970fb80eb",
            "c29206e6095d4676a7ebf828192ca750",
            "b30334dcc90a4f40924a8438c727ec76",
            "28d35a7bb66e480b973df558459389d1",
            "50141f42d3bf46db85d390bea1250683",
            "2e8d0018b8494942bb46d224715a6b76",
            "42140b3580e44b8b8419b5b0fe3f3b53",
            "a631937530f440198398fdd41cf4b6c7",
            "a31e06d88c03429b92c963ad095b115c",
            "f8e8c9e8c4374f2eb522d59d0b46352f",
            "9f5442f7b77a4c68bba5aed9d2c2cf65",
            "54e4b127da99488a9a859d5ec4d03888",
            "64b4c78ccba545ed86017220515749fc",
            "690791751e72498491100110feebc4bc",
            "0925b599db044335bb191a7f7a66a819",
            "8a6cbe2257f944539667f213e36c9a34",
            "405b2f4ab80148169702f3d673271a74",
            "8905f66d66c84461a5dec18949981906"
          ]
        },
        "id": "bCBS-TdWTtxZ",
        "outputId": "42b011ca-2328-4161-f4a9-b8877c48af02"
      },
      "execution_count": null,
      "outputs": [
        {
          "output_type": "display_data",
          "data": {
            "text/plain": [
              "Output()"
            ],
            "application/vnd.jupyter.widget-view+json": {
              "version_major": 2,
              "version_minor": 0,
              "model_id": "bc7c5189e39e4d1aaa4e83880841c54b"
            }
          },
          "metadata": {}
        },
        {
          "output_type": "display_data",
          "data": {
            "text/plain": [
              "VBox(children=(Text(value='', description='Calculation:', placeholder='Type something'), HBox(children=(Button…"
            ],
            "application/vnd.jupyter.widget-view+json": {
              "version_major": 2,
              "version_minor": 0,
              "model_id": "b075464f973146a88ad728fc7d8ae7a4"
            }
          },
          "metadata": {}
        }
      ]
    },
    {
      "cell_type": "code",
      "source": [],
      "metadata": {
        "id": "q4nb_6hZc4b4"
      },
      "execution_count": null,
      "outputs": []
    },
    {
      "cell_type": "markdown",
      "source": [
        "More operators (for later): <br>\n",
        "* Comparison Operators: ==, !=, <, >, <=, >= <br>\n",
        "* Assignment Operators: =, +=, -=, *=, /=, %= <br>\n",
        "* Logical Operators: and, or, not <br>\n",
        "* Identity Operators: is, is not <br>\n",
        "* Membership Operators: in, not in"
      ],
      "metadata": {
        "id": "sfubu24UbqjH"
      }
    },
    {
      "cell_type": "markdown",
      "source": [
        "# 3.5 Functions\n",
        "\n",
        "## Creating a Function in Python\n",
        "\n",
        "In Python, a function is defined using the `def` keyword, followed by a function name, a set of parentheses `()`, and a colon `:`. The indented block of code following the `:` is executed whenever the function is called.\n",
        "\n",
        "### Example:\n",
        "\n",
        "Here's a simple function that takes two numbers and returns their sum:\n",
        "\n",
        "```python\n",
        "def add_numbers(num1, num2):\n",
        "    result = num1 + num2\n",
        "    return result\n"
      ],
      "metadata": {
        "id": "MoUYg0HeW6oF"
      }
    },
    {
      "cell_type": "code",
      "source": [
        "def multi(a1,a2):\n",
        "    result=a1*a2\n",
        "    return result"
      ],
      "metadata": {
        "id": "3bm_K-mHTZg_"
      },
      "execution_count": 14,
      "outputs": []
    },
    {
      "cell_type": "code",
      "source": [
        "#@markdown Define yesno(sentence) function to make a statement to a yesno question.\n",
        "def yesno(sentence):\n",
        "    # Remove the period if it's at the end of the sentence\n",
        "    sentence = sentence.rstrip('.')\n",
        "\n",
        "    # Split the sentence into words\n",
        "    words = sentence.split()\n",
        "    # Define a list of 'be' verbs\n",
        "    be_verbs = ['is', 'are', 'am', 'was', 'were']\n",
        "\n",
        "    # Find the position of the 'be' verb\n",
        "    for i, word in enumerate(words):\n",
        "        if word in be_verbs and i != 0:  # Ensure the 'be' verb is not the first word\n",
        "            # Invert the subject and the 'be' verb\n",
        "            # Assuming the subject is the first word\n",
        "            subject = words[0].lower()  # Convert subject to lowercase\n",
        "            verb = words[i]\n",
        "            # Reconstruct the sentence as a yes-no question\n",
        "            remaining = words[1:i] + words[i+1:]\n",
        "            question = f\"{verb.capitalize()} {subject} \" + \" \".join(remaining).strip() + \"?\"\n",
        "            return question\n",
        "\n",
        "    # If no 'be' verb is found, or it's the first word, return the original sentence\n",
        "    return \"Not a simple 'be' verb sentence, already a question, or 'be' verb is the first word.\"\n",
        "\n",
        "# Example usage\n",
        "\n",
        "yoursentence = input(\"Type a simple sentence including be verb.\")\n",
        "yesno(yoursentence)\n"
      ],
      "metadata": {
        "cellView": "form",
        "id": "aeT6u0h7XbXW",
        "outputId": "32bda624-3847-46a3-d899-c2c2895a2425",
        "colab": {
          "base_uri": "https://localhost:8080/",
          "height": 339
        }
      },
      "execution_count": 17,
      "outputs": [
        {
          "output_type": "error",
          "ename": "KeyboardInterrupt",
          "evalue": "Interrupted by user",
          "traceback": [
            "\u001b[0;31m---------------------------------------------------------------------------\u001b[0m",
            "\u001b[0;31mKeyboardInterrupt\u001b[0m                         Traceback (most recent call last)",
            "\u001b[0;32m<ipython-input-17-86da8495ba3d>\u001b[0m in \u001b[0;36m<cell line: 28>\u001b[0;34m()\u001b[0m\n\u001b[1;32m     26\u001b[0m \u001b[0;31m# Example usage\u001b[0m\u001b[0;34m\u001b[0m\u001b[0;34m\u001b[0m\u001b[0m\n\u001b[1;32m     27\u001b[0m \u001b[0;34m\u001b[0m\u001b[0m\n\u001b[0;32m---> 28\u001b[0;31m \u001b[0myoursentence\u001b[0m \u001b[0;34m=\u001b[0m \u001b[0minput\u001b[0m\u001b[0;34m(\u001b[0m\u001b[0;34m\"Type a simple sentence including be verb.\"\u001b[0m\u001b[0;34m)\u001b[0m\u001b[0;34m\u001b[0m\u001b[0;34m\u001b[0m\u001b[0m\n\u001b[0m\u001b[1;32m     29\u001b[0m \u001b[0myesno\u001b[0m\u001b[0;34m(\u001b[0m\u001b[0myoursentence\u001b[0m\u001b[0;34m)\u001b[0m\u001b[0;34m\u001b[0m\u001b[0;34m\u001b[0m\u001b[0m\n",
            "\u001b[0;32m/usr/local/lib/python3.10/dist-packages/ipykernel/kernelbase.py\u001b[0m in \u001b[0;36mraw_input\u001b[0;34m(self, prompt)\u001b[0m\n\u001b[1;32m    849\u001b[0m                 \u001b[0;34m\"raw_input was called, but this frontend does not support input requests.\"\u001b[0m\u001b[0;34m\u001b[0m\u001b[0;34m\u001b[0m\u001b[0m\n\u001b[1;32m    850\u001b[0m             )\n\u001b[0;32m--> 851\u001b[0;31m         return self._input_request(str(prompt),\n\u001b[0m\u001b[1;32m    852\u001b[0m             \u001b[0mself\u001b[0m\u001b[0;34m.\u001b[0m\u001b[0m_parent_ident\u001b[0m\u001b[0;34m,\u001b[0m\u001b[0;34m\u001b[0m\u001b[0;34m\u001b[0m\u001b[0m\n\u001b[1;32m    853\u001b[0m             \u001b[0mself\u001b[0m\u001b[0;34m.\u001b[0m\u001b[0m_parent_header\u001b[0m\u001b[0;34m,\u001b[0m\u001b[0;34m\u001b[0m\u001b[0;34m\u001b[0m\u001b[0m\n",
            "\u001b[0;32m/usr/local/lib/python3.10/dist-packages/ipykernel/kernelbase.py\u001b[0m in \u001b[0;36m_input_request\u001b[0;34m(self, prompt, ident, parent, password)\u001b[0m\n\u001b[1;32m    893\u001b[0m             \u001b[0;32mexcept\u001b[0m \u001b[0mKeyboardInterrupt\u001b[0m\u001b[0;34m:\u001b[0m\u001b[0;34m\u001b[0m\u001b[0;34m\u001b[0m\u001b[0m\n\u001b[1;32m    894\u001b[0m                 \u001b[0;31m# re-raise KeyboardInterrupt, to truncate traceback\u001b[0m\u001b[0;34m\u001b[0m\u001b[0;34m\u001b[0m\u001b[0m\n\u001b[0;32m--> 895\u001b[0;31m                 \u001b[0;32mraise\u001b[0m \u001b[0mKeyboardInterrupt\u001b[0m\u001b[0;34m(\u001b[0m\u001b[0;34m\"Interrupted by user\"\u001b[0m\u001b[0;34m)\u001b[0m \u001b[0;32mfrom\u001b[0m \u001b[0;32mNone\u001b[0m\u001b[0;34m\u001b[0m\u001b[0;34m\u001b[0m\u001b[0m\n\u001b[0m\u001b[1;32m    896\u001b[0m             \u001b[0;32mexcept\u001b[0m \u001b[0mException\u001b[0m \u001b[0;32mas\u001b[0m \u001b[0me\u001b[0m\u001b[0;34m:\u001b[0m\u001b[0;34m\u001b[0m\u001b[0;34m\u001b[0m\u001b[0m\n\u001b[1;32m    897\u001b[0m                 \u001b[0mself\u001b[0m\u001b[0;34m.\u001b[0m\u001b[0mlog\u001b[0m\u001b[0;34m.\u001b[0m\u001b[0mwarning\u001b[0m\u001b[0;34m(\u001b[0m\u001b[0;34m\"Invalid Message:\"\u001b[0m\u001b[0;34m,\u001b[0m \u001b[0mexc_info\u001b[0m\u001b[0;34m=\u001b[0m\u001b[0;32mTrue\u001b[0m\u001b[0;34m)\u001b[0m\u001b[0;34m\u001b[0m\u001b[0;34m\u001b[0m\u001b[0m\n",
            "\u001b[0;31mKeyboardInterrupt\u001b[0m: Interrupted by user"
          ]
        }
      ]
    },
    {
      "cell_type": "code",
      "source": [
        "import gradio as gr\n",
        "\n",
        "def yesno(sentence):\n",
        "    sentence = sentence.rstrip('.')\n",
        "    words = sentence.split()\n",
        "    be_verbs = ['is', 'are', 'am', 'was', 'were']\n",
        "\n",
        "    for i, word in enumerate(words):\n",
        "        if word in be_verbs and i != 0:\n",
        "            subject = words[0].lower()\n",
        "            verb = words[i]\n",
        "            remaining = words[1:i] + words[i+1:]\n",
        "            question = f\"{verb.capitalize()} {subject} \" + \" \".join(remaining).strip() + \"?\"\n",
        "            return question\n",
        "\n",
        "    return \"Not a simple 'be' verb sentence, already a question, or 'be' verb is the first word.\"\n",
        "\n",
        "iface = gr.Interface(\n",
        "    fn=yesno,\n",
        "    inputs=gr.Textbox(lines=2, placeholder=\"Enter a sentence\"),\n",
        "    outputs=\"text\",\n",
        "    title=\"Yes-No Question Converter (with be-verb only)\",\n",
        "    description=\"Enter a sentence and this app will convert it into a yes-no question.\"\n",
        ")\n",
        "\n",
        "iface.launch()\n"
      ],
      "metadata": {
        "id": "XkDCRhqNaqOE",
        "outputId": "d13355fe-80d2-4c76-953c-fbbd5967d12d",
        "colab": {
          "base_uri": "https://localhost:8080/",
          "height": 652
        }
      },
      "execution_count": null,
      "outputs": [
        {
          "output_type": "stream",
          "name": "stdout",
          "text": [
            "Setting queue=True in a Colab notebook requires sharing enabled. Setting `share=True` (you can turn this off by setting `share=False` in `launch()` explicitly).\n",
            "\n",
            "Colab notebook detected. To show errors in colab notebook, set debug=True in launch()\n",
            "Running on public URL: https://d796ae5a9d4285899c.gradio.live\n",
            "\n",
            "This share link expires in 72 hours. For free permanent hosting and GPU upgrades, run `gradio deploy` from Terminal to deploy to Spaces (https://huggingface.co/spaces)\n"
          ]
        },
        {
          "output_type": "display_data",
          "data": {
            "text/plain": [
              "<IPython.core.display.HTML object>"
            ],
            "text/html": [
              "<div><iframe src=\"https://d796ae5a9d4285899c.gradio.live\" width=\"100%\" height=\"500\" allow=\"autoplay; camera; microphone; clipboard-read; clipboard-write;\" frameborder=\"0\" allowfullscreen></iframe></div>"
            ]
          },
          "metadata": {}
        },
        {
          "output_type": "execute_result",
          "data": {
            "text/plain": []
          },
          "metadata": {},
          "execution_count": 31
        }
      ]
    },
    {
      "cell_type": "code",
      "source": [
        "!pip install gtts"
      ],
      "metadata": {
        "id": "35WqtLTvb1Ep",
        "outputId": "e39695b7-1451-4c6f-b5f9-5afd9888335e",
        "colab": {
          "base_uri": "https://localhost:8080/"
        }
      },
      "execution_count": null,
      "outputs": [
        {
          "output_type": "stream",
          "name": "stdout",
          "text": [
            "Collecting gtts\n",
            "  Downloading gTTS-2.5.0-py3-none-any.whl (29 kB)\n",
            "Requirement already satisfied: requests<3,>=2.27 in /usr/local/lib/python3.10/dist-packages (from gtts) (2.31.0)\n",
            "Requirement already satisfied: click<8.2,>=7.1 in /usr/local/lib/python3.10/dist-packages (from gtts) (8.1.7)\n",
            "Requirement already satisfied: charset-normalizer<4,>=2 in /usr/local/lib/python3.10/dist-packages (from requests<3,>=2.27->gtts) (3.3.2)\n",
            "Requirement already satisfied: idna<4,>=2.5 in /usr/local/lib/python3.10/dist-packages (from requests<3,>=2.27->gtts) (3.6)\n",
            "Requirement already satisfied: urllib3<3,>=1.21.1 in /usr/local/lib/python3.10/dist-packages (from requests<3,>=2.27->gtts) (2.0.7)\n",
            "Requirement already satisfied: certifi>=2017.4.17 in /usr/local/lib/python3.10/dist-packages (from requests<3,>=2.27->gtts) (2023.11.17)\n",
            "Installing collected packages: gtts\n",
            "Successfully installed gtts-2.5.0\n"
          ]
        }
      ]
    },
    {
      "cell_type": "code",
      "source": [
        "#@markdown Yes-No converter app (using Gradio)\n",
        "import gradio as gr\n",
        "from gtts import gTTS\n",
        "import os\n",
        "\n",
        "def yesno_with_audio(sentence):\n",
        "    # Your existing yesno function\n",
        "    def yesno(sentence):\n",
        "        sentence = sentence.rstrip('.')\n",
        "        words = sentence.split()\n",
        "        be_verbs = ['is', 'are', 'am', 'was', 'were']\n",
        "\n",
        "        for i, word in enumerate(words):\n",
        "            if word in be_verbs and i != 0:\n",
        "                subject = words[0].lower()\n",
        "                verb = words[i]\n",
        "                remaining = words[1:i] + words[i+1:]\n",
        "                question = f\"{verb.capitalize()} {subject} \" + \" \".join(remaining).strip() + \"?\"\n",
        "                return question\n",
        "\n",
        "        return \"Not a simple 'be' verb sentence, already a question, or 'be' verb is the first word.\"\n",
        "\n",
        "    # Generate the yes-no question\n",
        "    question = yesno(sentence)\n",
        "\n",
        "    # Generate audio from the question\n",
        "    tts = gTTS(question, lang='en')\n",
        "    audio_file = 'output_audio.mp3'\n",
        "    tts.save(audio_file)\n",
        "\n",
        "    return question, audio_file\n",
        "\n",
        "iface = gr.Interface(\n",
        "    fn=yesno_with_audio,\n",
        "    inputs=gr.Textbox(lines=2, placeholder=\"Enter a sentence\"),\n",
        "    outputs=[\"text\", \"audio\"],\n",
        "    title=\"Yes-No Question Generator with Audio\",\n",
        "    description=\"Enter a sentence and this app will convert it into a yes-no question and read it aloud.\"\n",
        ")\n",
        "\n",
        "iface.launch()\n"
      ],
      "metadata": {
        "cellView": "form",
        "id": "PvmI4XQ2bSkY",
        "outputId": "2ef06361-9633-490a-ccef-8b3b003134d1",
        "colab": {
          "base_uri": "https://localhost:8080/",
          "height": 652
        }
      },
      "execution_count": null,
      "outputs": [
        {
          "output_type": "stream",
          "name": "stdout",
          "text": [
            "Setting queue=True in a Colab notebook requires sharing enabled. Setting `share=True` (you can turn this off by setting `share=False` in `launch()` explicitly).\n",
            "\n",
            "Colab notebook detected. To show errors in colab notebook, set debug=True in launch()\n",
            "Running on public URL: https://8347679c1d5e79c44c.gradio.live\n",
            "\n",
            "This share link expires in 72 hours. For free permanent hosting and GPU upgrades, run `gradio deploy` from Terminal to deploy to Spaces (https://huggingface.co/spaces)\n"
          ]
        },
        {
          "output_type": "display_data",
          "data": {
            "text/plain": [
              "<IPython.core.display.HTML object>"
            ],
            "text/html": [
              "<div><iframe src=\"https://8347679c1d5e79c44c.gradio.live\" width=\"100%\" height=\"500\" allow=\"autoplay; camera; microphone; clipboard-read; clipboard-write;\" frameborder=\"0\" allowfullscreen></iframe></div>"
            ]
          },
          "metadata": {}
        },
        {
          "output_type": "execute_result",
          "data": {
            "text/plain": []
          },
          "metadata": {},
          "execution_count": 34
        }
      ]
    },
    {
      "cell_type": "markdown",
      "source": [
        "# ⏰ Todo:"
      ],
      "metadata": {
        "id": "9D7U7633g0S_"
      }
    },
    {
      "cell_type": "markdown",
      "source": [],
      "metadata": {
        "id": "mSpge9tenu6I"
      }
    },
    {
      "cell_type": "markdown",
      "source": [
        "\n",
        "\n",
        "---\n",
        "# The End\n"
      ],
      "metadata": {
        "id": "3cZjH9xIiN4_"
      }
    }
  ]
}